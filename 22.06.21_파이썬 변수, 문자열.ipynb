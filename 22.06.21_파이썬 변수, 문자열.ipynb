{
 "cells": [
  {
   "cell_type": "markdown",
   "id": "01710d70",
   "metadata": {},
   "source": [
    "변수"
   ]
  },
  {
   "cell_type": "code",
   "execution_count": 15,
   "id": "5c028ffa",
   "metadata": {
    "scrolled": true
   },
   "outputs": [
    {
     "name": "stdout",
     "output_type": "stream",
     "text": [
      "3\n"
     ]
    }
   ],
   "source": [
    "num=3\n",
    "print(num)"
   ]
  },
  {
   "cell_type": "markdown",
   "id": "84a8ab3e",
   "metadata": {},
   "source": [
    "변수에 들어갈수 있는 자료형 숫자(정수 실수), 문자열, 참 거짓 논리값 등\n"
   ]
  },
  {
   "cell_type": "code",
   "execution_count": 17,
   "id": "fc432222",
   "metadata": {},
   "outputs": [
    {
     "name": "stdout",
     "output_type": "stream",
     "text": [
      "13\n"
     ]
    }
   ],
   "source": [
    "num1=13\n",
    "print(num1)"
   ]
  },
  {
   "cell_type": "code",
   "execution_count": 18,
   "id": "7109de53",
   "metadata": {},
   "outputs": [
    {
     "name": "stdout",
     "output_type": "stream",
     "text": [
      "25\n"
     ]
    }
   ],
   "source": [
    "num2=25\n",
    "print(num2)"
   ]
  },
  {
   "cell_type": "code",
   "execution_count": 19,
   "id": "b2c71002",
   "metadata": {},
   "outputs": [
    {
     "name": "stdout",
     "output_type": "stream",
     "text": [
      "77\n"
     ]
    }
   ],
   "source": [
    "num2=77\n",
    "print(num2)"
   ]
  },
  {
   "cell_type": "code",
   "execution_count": 20,
   "id": "42b5991c",
   "metadata": {},
   "outputs": [
    {
     "data": {
      "text/plain": [
       "int"
      ]
     },
     "execution_count": 20,
     "metadata": {},
     "output_type": "execute_result"
    }
   ],
   "source": [
    "type(num2)"
   ]
  },
  {
   "cell_type": "code",
   "execution_count": 1,
   "id": "646d9e95",
   "metadata": {},
   "outputs": [
    {
     "name": "stdout",
     "output_type": "stream",
     "text": [
      "3.1425\n"
     ]
    }
   ],
   "source": [
    "num3=3.1425\n",
    "print(num3)"
   ]
  },
  {
   "cell_type": "code",
   "execution_count": 2,
   "id": "a04e38f1",
   "metadata": {},
   "outputs": [
    {
     "data": {
      "text/plain": [
       "1.25"
      ]
     },
     "execution_count": 2,
     "metadata": {},
     "output_type": "execute_result"
    }
   ],
   "source": [
    "num4=1.25\n",
    "num4"
   ]
  },
  {
   "cell_type": "code",
   "execution_count": 3,
   "id": "99faa992",
   "metadata": {},
   "outputs": [
    {
     "data": {
      "text/plain": [
       "3.12"
      ]
     },
     "execution_count": 3,
     "metadata": {},
     "output_type": "execute_result"
    }
   ],
   "source": [
    "num4=3.12\n",
    "num4"
   ]
  },
  {
   "cell_type": "code",
   "execution_count": 4,
   "id": "177e2a18",
   "metadata": {},
   "outputs": [
    {
     "data": {
      "text/plain": [
       "float"
      ]
     },
     "execution_count": 4,
     "metadata": {},
     "output_type": "execute_result"
    }
   ],
   "source": [
    "type(num4)"
   ]
  },
  {
   "cell_type": "code",
   "execution_count": 5,
   "id": "434f510b",
   "metadata": {},
   "outputs": [
    {
     "data": {
      "text/plain": [
       "'Funny python'"
      ]
     },
     "execution_count": 5,
     "metadata": {},
     "output_type": "execute_result"
    }
   ],
   "source": [
    "str1='Funny python'\n",
    "str1"
   ]
  },
  {
   "cell_type": "code",
   "execution_count": 6,
   "id": "ed7ff92b",
   "metadata": {},
   "outputs": [
    {
     "data": {
      "text/plain": [
       "'Easy python'"
      ]
     },
     "execution_count": 6,
     "metadata": {},
     "output_type": "execute_result"
    }
   ],
   "source": [
    "str2='Easy python'\n",
    "str2"
   ]
  },
  {
   "cell_type": "code",
   "execution_count": 7,
   "id": "82c84f17",
   "metadata": {},
   "outputs": [
    {
     "data": {
      "text/plain": [
       "str"
      ]
     },
     "execution_count": 7,
     "metadata": {},
     "output_type": "execute_result"
    }
   ],
   "source": [
    "type(str2)"
   ]
  },
  {
   "cell_type": "markdown",
   "id": "1b5decec",
   "metadata": {},
   "source": [
    "변수명 규칙 1 \n",
    "영문자 숫자 언더바를 사용할수있다\n",
    "단 영문자는 대문자와 소문자를 다르게 인식한다"
   ]
  },
  {
   "cell_type": "code",
   "execution_count": 8,
   "id": "a4483db6",
   "metadata": {},
   "outputs": [
    {
     "name": "stdout",
     "output_type": "stream",
     "text": [
      "number : 10\n",
      "Number : 20\n"
     ]
    }
   ],
   "source": [
    "number=10\n",
    "Number=20\n",
    "print('number :', number)\n",
    "print('Number :', Number)"
   ]
  },
  {
   "cell_type": "code",
   "execution_count": 9,
   "id": "baa31223",
   "metadata": {},
   "outputs": [
    {
     "ename": "SyntaxError",
     "evalue": "invalid syntax (3782790406.py, line 1)",
     "output_type": "error",
     "traceback": [
      "\u001b[1;36m  Input \u001b[1;32mIn [9]\u001b[1;36m\u001b[0m\n\u001b[1;33m    1a=10\u001b[0m\n\u001b[1;37m     ^\u001b[0m\n\u001b[1;31mSyntaxError\u001b[0m\u001b[1;31m:\u001b[0m invalid syntax\n"
     ]
    }
   ],
   "source": [
    "1a=10"
   ]
  },
  {
   "cell_type": "markdown",
   "id": "2514f44f",
   "metadata": {},
   "source": [
    "변수명 규칙 2 숫자를 먼저 쓰거나 숫자로만 이루어진 변수명 사용불가능 하다"
   ]
  },
  {
   "cell_type": "markdown",
   "id": "3ca75338",
   "metadata": {},
   "source": [
    "변수명 규칙 3 예약어를 변수명으로 사용 불가능하다 (명령어는 변수로 사용이 가능하나 원래 기능이 사라진다)"
   ]
  },
  {
   "cell_type": "code",
   "execution_count": 11,
   "id": "27323932",
   "metadata": {
    "scrolled": true
   },
   "outputs": [
    {
     "data": {
      "text/plain": [
       "['False',\n",
       " 'None',\n",
       " 'True',\n",
       " '__peg_parser__',\n",
       " 'and',\n",
       " 'as',\n",
       " 'assert',\n",
       " 'async',\n",
       " 'await',\n",
       " 'break',\n",
       " 'class',\n",
       " 'continue',\n",
       " 'def',\n",
       " 'del',\n",
       " 'elif',\n",
       " 'else',\n",
       " 'except',\n",
       " 'finally',\n",
       " 'for',\n",
       " 'from',\n",
       " 'global',\n",
       " 'if',\n",
       " 'import',\n",
       " 'in',\n",
       " 'is',\n",
       " 'lambda',\n",
       " 'nonlocal',\n",
       " 'not',\n",
       " 'or',\n",
       " 'pass',\n",
       " 'raise',\n",
       " 'return',\n",
       " 'try',\n",
       " 'while',\n",
       " 'with',\n",
       " 'yield']"
      ]
     },
     "execution_count": 11,
     "metadata": {},
     "output_type": "execute_result"
    }
   ],
   "source": [
    "import keyword\n",
    "keyword.kwlist"
   ]
  },
  {
   "cell_type": "markdown",
   "id": "2f73499e",
   "metadata": {},
   "source": [
    "권장사항 \n",
    "1 변수명의 첫글자는 가급적 소문자로 만든다\n",
    "2 두가지의 문자를 섞어서 변수명을 만들 경우 두 단어를 구분 할 수 있게 한다"
   ]
  },
  {
   "cell_type": "code",
   "execution_count": 15,
   "id": "efc3f5db",
   "metadata": {},
   "outputs": [
    {
     "name": "stdout",
     "output_type": "stream",
     "text": [
      "10\n",
      "15\n"
     ]
    }
   ],
   "source": [
    "a=10\n",
    "b=15\n",
    "print(a)\n",
    "print(b)"
   ]
  },
  {
   "cell_type": "code",
   "execution_count": 16,
   "id": "1f4b2ecd",
   "metadata": {},
   "outputs": [
    {
     "name": "stdout",
     "output_type": "stream",
     "text": [
      "10\n",
      "15\n"
     ]
    }
   ],
   "source": [
    "a,b=10,15\n",
    "print(a)\n",
    "print(b)"
   ]
  },
  {
   "cell_type": "code",
   "execution_count": 17,
   "id": "68c1d1bc",
   "metadata": {},
   "outputs": [
    {
     "name": "stdout",
     "output_type": "stream",
     "text": [
      "python\n",
      "python\n"
     ]
    }
   ],
   "source": [
    "str1='python'\n",
    "str2='python'\n",
    "print(str1)\n",
    "print(str2)"
   ]
  },
  {
   "cell_type": "code",
   "execution_count": 18,
   "id": "5255d27f",
   "metadata": {},
   "outputs": [
    {
     "name": "stdout",
     "output_type": "stream",
     "text": [
      "python\n",
      "python\n"
     ]
    }
   ],
   "source": [
    "str1=str2='python'\n",
    "print(str1)\n",
    "print(str2)"
   ]
  },
  {
   "cell_type": "code",
   "execution_count": 19,
   "id": "2e2d5baa",
   "metadata": {},
   "outputs": [
    {
     "name": "stdout",
     "output_type": "stream",
     "text": [
      "300\n"
     ]
    }
   ],
   "source": [
    "x=100\n",
    "y=200\n",
    "sum=x+y\n",
    "print(sum)"
   ]
  },
  {
   "cell_type": "code",
   "execution_count": 2,
   "id": "eda82c89",
   "metadata": {
    "scrolled": true
   },
   "outputs": [
    {
     "data": {
      "text/plain": [
       "\"she's gone\""
      ]
     },
     "execution_count": 2,
     "metadata": {},
     "output_type": "execute_result"
    }
   ],
   "source": [
    "s = \"she's gone\"\n",
    "s"
   ]
  },
  {
   "cell_type": "code",
   "execution_count": 6,
   "id": "6b38dae8",
   "metadata": {},
   "outputs": [
    {
     "data": {
      "text/plain": [
       "\"she' gone\""
      ]
     },
     "execution_count": 6,
     "metadata": {},
     "output_type": "execute_result"
    }
   ],
   "source": [
    "s2='she\\' gone'\n",
    "s2"
   ]
  },
  {
   "cell_type": "code",
   "execution_count": 7,
   "id": "528556a5",
   "metadata": {},
   "outputs": [],
   "source": [
    "s1='he said that \"she is gone\"'\n",
    "s2=\"he said that \\\"she is gone\\\"\""
   ]
  },
  {
   "cell_type": "code",
   "execution_count": 9,
   "id": "2194d410",
   "metadata": {},
   "outputs": [
    {
     "name": "stdout",
     "output_type": "stream",
     "text": [
      "he said that \"she is gone\" \n",
      " he said that \"she is gone\"\n"
     ]
    }
   ],
   "source": [
    "print(s1,'\\n',s2)"
   ]
  },
  {
   "cell_type": "code",
   "execution_count": 14,
   "id": "b1bcbfb1",
   "metadata": {},
   "outputs": [],
   "source": [
    "s='여러줄로 구성된 \\n문자열을 하나로 대입할 때'"
   ]
  },
  {
   "cell_type": "code",
   "execution_count": 15,
   "id": "13a20473",
   "metadata": {},
   "outputs": [
    {
     "name": "stdout",
     "output_type": "stream",
     "text": [
      "여러줄로 구성된 \n",
      "문자열을 하나로 대입할 때\n"
     ]
    }
   ],
   "source": [
    "print(s)"
   ]
  },
  {
   "cell_type": "code",
   "execution_count": 16,
   "id": "98fd358a",
   "metadata": {},
   "outputs": [
    {
     "name": "stdout",
     "output_type": "stream",
     "text": [
      "dkslksdflks\n",
      "sdf\n",
      "s\n",
      "dsddf\n",
      "dfdfdfdf\n"
     ]
    }
   ],
   "source": [
    "a='''dkslksdflks\n",
    "sdf\n",
    "s\n",
    "dsddf\n",
    "dfdfdfdf'''\n",
    "print(a)"
   ]
  },
  {
   "cell_type": "code",
   "execution_count": 17,
   "id": "54527e0c",
   "metadata": {},
   "outputs": [
    {
     "data": {
      "text/plain": [
       "'나아니ㅏ나ㅣㅓㅇ나ㅣㄴㅇ\\nㄴㅇㄹ\\n\\nㄴ\\n'"
      ]
     },
     "execution_count": 17,
     "metadata": {},
     "output_type": "execute_result"
    }
   ],
   "source": [
    "\"\"\"나아니ㅏ나ㅣㅓㅇ나ㅣㄴㅇ\n",
    "ㄴㅇㄹ\n",
    "\n",
    "ㄴ\n",
    "\"\"\""
   ]
  },
  {
   "cell_type": "markdown",
   "id": "0ae2a1f3",
   "metadata": {},
   "source": [
    "이스케이프 코드\n",
    "\\n  개행\n",
    "\\t  수평탭\n",
    "\\\\  문자\\\n",
    "\\'  '\n",
    "\\\"  \""
   ]
  },
  {
   "cell_type": "code",
   "execution_count": 21,
   "id": "19e129b2",
   "metadata": {},
   "outputs": [
    {
     "name": "stdout",
     "output_type": "stream",
     "text": [
      "M\n",
      " \n"
     ]
    }
   ],
   "source": [
    "s='My name is SW'\n",
    "print(s[0])\n",
    "print(s[10])"
   ]
  },
  {
   "cell_type": "code",
   "execution_count": 22,
   "id": "9c5d95e6",
   "metadata": {},
   "outputs": [
    {
     "name": "stdout",
     "output_type": "stream",
     "text": [
      "My\n"
     ]
    }
   ],
   "source": [
    "print(s[:2])"
   ]
  },
  {
   "cell_type": "code",
   "execution_count": 23,
   "id": "b38d89e3",
   "metadata": {},
   "outputs": [
    {
     "name": "stdout",
     "output_type": "stream",
     "text": [
      "name\n"
     ]
    }
   ],
   "source": [
    "print(s[3:7])"
   ]
  },
  {
   "cell_type": "code",
   "execution_count": 24,
   "id": "c6f5414e",
   "metadata": {},
   "outputs": [
    {
     "name": "stdout",
     "output_type": "stream",
     "text": [
      "is\n"
     ]
    }
   ],
   "source": [
    "print(s[8:10])"
   ]
  },
  {
   "cell_type": "code",
   "execution_count": 26,
   "id": "0bf3c9d7",
   "metadata": {},
   "outputs": [
    {
     "name": "stdout",
     "output_type": "stream",
     "text": [
      "is SW\n",
      "is SW\n",
      "is SW\n"
     ]
    }
   ],
   "source": [
    "print(s[8:13])\n",
    "print(s[-5:])\n",
    "print(s[8:])\n"
   ]
  },
  {
   "cell_type": "code",
   "execution_count": 34,
   "id": "d25c5b1b",
   "metadata": {},
   "outputs": [
    {
     "name": "stdout",
     "output_type": "stream",
     "text": [
      "My name is SW\n",
      "My name is SW\n",
      "My name is SW\n",
      "My name is SW\n"
     ]
    }
   ],
   "source": [
    "print(s[0:])\n",
    "print(s[:])\n",
    "print(s[:13])\n",
    "print(s)"
   ]
  },
  {
   "cell_type": "code",
   "execution_count": 37,
   "id": "35872bc1",
   "metadata": {},
   "outputs": [
    {
     "name": "stdout",
     "output_type": "stream",
     "text": [
      "날짜 : 2020년 3월 3일 \n",
      "날씨 : 맑음\n"
     ]
    }
   ],
   "source": [
    "s='2020년 3월 3일의 날씨는 맑음입니다.'\n",
    "print('날짜 :',s[:11],'\\n날씨 :',s[-6:-4])"
   ]
  },
  {
   "cell_type": "code",
   "execution_count": null,
   "id": "17e5be4a",
   "metadata": {},
   "outputs": [],
   "source": []
  }
 ],
 "metadata": {
  "kernelspec": {
   "display_name": "Python 3 (ipykernel)",
   "language": "python",
   "name": "python3"
  },
  "language_info": {
   "codemirror_mode": {
    "name": "ipython",
    "version": 3
   },
   "file_extension": ".py",
   "mimetype": "text/x-python",
   "name": "python",
   "nbconvert_exporter": "python",
   "pygments_lexer": "ipython3",
   "version": "3.9.12"
  }
 },
 "nbformat": 4,
 "nbformat_minor": 5
}
