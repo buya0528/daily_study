{
 "cells": [
  {
   "cell_type": "code",
   "execution_count": null,
   "id": "d523d31f",
   "metadata": {},
   "outputs": [],
   "source": [
    "if True:\n",
    "    print('실행문장 실행')"
   ]
  },
  {
   "cell_type": "code",
   "execution_count": null,
   "id": "64809ad4",
   "metadata": {},
   "outputs": [],
   "source": [
    "if False:\n",
    "    print('실행문장 실행')"
   ]
  },
  {
   "cell_type": "code",
   "execution_count": null,
   "id": "4b39a4ae",
   "metadata": {},
   "outputs": [],
   "source": [
    "if True:\n",
    "    print('실행문장 실행')\n",
    "print('if문 밖에 있는 실행 문장')"
   ]
  },
  {
   "cell_type": "code",
   "execution_count": null,
   "id": "7c777db0",
   "metadata": {},
   "outputs": [],
   "source": [
    "if False:\n",
    "    print('실행문장 실행')\n",
    "print('if문 밖에 있는 실행 문장')"
   ]
  },
  {
   "cell_type": "code",
   "execution_count": null,
   "id": "a016ed0f",
   "metadata": {},
   "outputs": [],
   "source": [
    "money=11000\n",
    "if money>=10000 :\n",
    "    print('택시를 탄다')"
   ]
  },
  {
   "cell_type": "code",
   "execution_count": null,
   "id": "ec8b115a",
   "metadata": {},
   "outputs": [],
   "source": [
    "money=9000\n",
    "if money>=10000 :\n",
    "    print('택시를 탄다')\n",
    "else:\n",
    "    print('버스를 탄다')"
   ]
  },
  {
   "cell_type": "code",
   "execution_count": null,
   "id": "fc7ec479",
   "metadata": {},
   "outputs": [],
   "source": [
    "money = 200\n",
    "if money >= 10000 :\n",
    "    print('택시를 탄다!')\n",
    "elif money >=1500 :\n",
    "    print('버스ㅠㅠ')\n",
    "else:\n",
    "    print('유감')"
   ]
  },
  {
   "cell_type": "code",
   "execution_count": null,
   "id": "0d8fdea6",
   "metadata": {},
   "outputs": [],
   "source": [
    "num= int(input('정수입력'))\n",
    "if num%3==0 and num%5==0:\n",
    "    print('3과 5의 배수입니다')\n",
    "else:\n",
    "    print('3과5의 배수가 아닙니다')"
   ]
  },
  {
   "cell_type": "code",
   "execution_count": null,
   "id": "54eb6219",
   "metadata": {},
   "outputs": [],
   "source": [
    "Rrn=input('주민번호 뒷자리 입력 :')\n",
    "if len(Rrn)==7:\n",
    "    if Rrn[0] =='1':\n",
    "        print('남자입니다')\n",
    "    elif Rrn[0] =='3':\n",
    "        print('남자입니다')\n",
    "    elif Rrn[0] =='2':\n",
    "        print('여자입니다')\n",
    "    elif Rrn[0] =='4':\n",
    "        print('여자입니다')\n",
    "    else:\n",
    "        print('당신은 외국인 입니까?')\n",
    "else:\n",
    "    print('잘못된 입력입니다')\n"
   ]
  },
  {
   "cell_type": "code",
   "execution_count": null,
   "id": "8532bdc9",
   "metadata": {},
   "outputs": [],
   "source": [
    "Rrn2 = int(input('주민번호 뒷자리 입력 :'))\n",
    "if Rrn2 // 1000000 >=1 and rrn2 // 1000000 <=4:\n",
    "    if  Rrn2 // 1000000 ==1:\n",
    "        print('남자입니다')\n",
    "    elif  Rrn2 // 1000000 ==2:\n",
    "        print('여자입니다')\n",
    "    elif  Rrn2 // 1000000 ==3:\n",
    "        print('남자입니다')\n",
    "    elif  Rrn2 // 1000000 ==4:\n",
    "        print('여자입니다')\n",
    "    else:\n",
    "        print('인간맞음?')\n",
    "else:\n",
    "    print('잘못된 입력입니다')"
   ]
  },
  {
   "cell_type": "code",
   "execution_count": null,
   "id": "b5359d86",
   "metadata": {
    "scrolled": true
   },
   "outputs": [],
   "source": [
    "name=input('이름 입력 : ')\n",
    "age=int(input('나이 입력 : '))\n",
    "cc=input('카드 소지 여부(소지 미소지) : ')\n",
    "price=35000\n",
    "if cc == '소지':\n",
    "    if age>=19 :\n",
    "        print(f'{name}님은 입장료 {int(price*0.7)}원에 예약 되셨습니다')\n",
    "    else:\n",
    "        print(f'{name}님은 입장료 {int((price*0.5)*0.9)}원에 예약 되셨습니다')\n",
    "else:\n",
    "    if age>=19 :\n",
    "        print(f'{name}님은 입장료 {int(price)}원에 예약 되셨습니다')\n",
    "    else:\n",
    "        print(f'{name}님은 입장료 {int(price*0.5)}원에 예약 되셨습니다')"
   ]
  },
  {
   "cell_type": "code",
   "execution_count": null,
   "id": "e4f7e560",
   "metadata": {},
   "outputs": [],
   "source": [
    "countOfMask = int(input('마스크 개수 입력 : '))\n",
    "\n",
    "print(f'8개들이 포장지 개수 :{countOfMask // 8}')\n",
    "if (countOfMask % 8)/5 == int or (countOfMask % 8)/5==0:\n",
    "    print(f'5개들이 포장지 개수 :{int((countOfMask % 8)/5)}')\n",
    "else:\n",
    "    print(f'5개들이 포장지 개수 :{int(((countOfMask % 8)//5)+1)}')"
   ]
  },
  {
   "cell_type": "code",
   "execution_count": null,
   "id": "daad192d",
   "metadata": {},
   "outputs": [],
   "source": [
    "countOfMask = int(input('마스크 개수 입력 : '))\n",
    "eightBox = countOfMask // 8\n",
    "\n",
    "if ((countOfMask % 8)%5) > 0:\n",
    "    fiveBox = ((countOfMask % 8) //5)+1\n",
    "else :\n",
    "    fiveBox = ((countOfMask % 8)//5)\n",
    "print(f'8개들이 포장지 개수 :{eightBox}')\n",
    "print(f'5개들이 포장지 개수 :{fiveBox}')\n",
    "    "
   ]
  },
  {
   "cell_type": "code",
   "execution_count": null,
   "id": "7a5c869f",
   "metadata": {},
   "outputs": [],
   "source": [
    "num1=int(input('첫 번째 정수 입력'))\n",
    "num2=int(input('두 번째 정수 입력'))\n",
    "if num1 > num2 :\n",
    "    print('첫 번째 정수가 더 큽니다')\n",
    "elif num2>num1:\n",
    "    print('두 번째 정수가 더 큽니다')\n",
    "else:\n",
    "    print('두 수가 똑같습니다')"
   ]
  },
  {
   "cell_type": "code",
   "execution_count": null,
   "id": "725ff1bc",
   "metadata": {},
   "outputs": [],
   "source": [
    "score = int(input('점수 입력 : '))\n",
    "if score >= 90 :\n",
    "    grade='A'\n",
    "elif score >= 80 :\n",
    "    grade='B'\n",
    "elif score >= 70 :\n",
    "    grade='C'\n",
    "elif score >= 60 :\n",
    "    grade='D'\n",
    "else :\n",
    "    grade='F'\n",
    "print(f'{score}점은 {grade}학점 입니다')"
   ]
  },
  {
   "cell_type": "code",
   "execution_count": null,
   "id": "040c0d65",
   "metadata": {},
   "outputs": [],
   "source": [
    "x=int(input('x값을 입력하세요 :'))\n",
    "y=int(input('y값을 입력하세요 :'))\n",
    "if x>0:\n",
    "    if y>0:\n",
    "        quadrant=1\n",
    "    else:\n",
    "        quadrant=4\n",
    "else:\n",
    "    if y>0:\n",
    "        quadrant=2\n",
    "    else:\n",
    "        quadrant=3\n",
    "print(f'좌표 ({x},{y})는 {quadrant}사분면 입니다')"
   ]
  },
  {
   "cell_type": "code",
   "execution_count": null,
   "id": "7fabc3a6",
   "metadata": {},
   "outputs": [],
   "source": [
    "x=int(input('x값을 입력하세요 :'))\n",
    "y=int(input('y값을 입력하세요 :'))\n",
    "if x>0 and y>0 :\n",
    "    quadrant=1\n",
    "elif x>0 and y<0:\n",
    "    quadrant=4\n",
    "elif x<0 and y>0:\n",
    "    quadrant=2\n",
    "else:\n",
    "    quadrant=3\n",
    "print(f'좌표 ({x},{y})는 {quadrant}사분면 입니다')"
   ]
  },
  {
   "cell_type": "code",
   "execution_count": null,
   "id": "baaec05d",
   "metadata": {},
   "outputs": [],
   "source": [
    "age = int(input('나이 입력 :'))\n",
    "busPrice = 1500\n",
    "if age<5 :\n",
    "    busPrice *= 0.5\n",
    "elif age<20:\n",
    "    busPrice *= 0.75\n",
    "elif age<65:\n",
    "    pass\n",
    "else:\n",
    "    busPrice *= 0.25\n",
    "print(f'요금은 {int(busPrice)}원 입니다')\n"
   ]
  },
  {
   "cell_type": "code",
   "execution_count": 4,
   "id": "11793455",
   "metadata": {},
   "outputs": [
    {
     "name": "stdout",
     "output_type": "stream",
     "text": [
      "===============================================\n",
      "=============== ---- 자판기 ---- ==============\n",
      "===============================================\n",
      "== 1.콜라 == 2. 사이다 == 3.물 =======insert===\n",
      "==   600  ==      800  == 1000 ======= 00원 ===\n",
      "======================================------===\n",
      "===============================================\n",
      "=+++++++++++++++++++++++++++++++++++++++++++++=\n",
      "=+++++++++++++++++++++++++++++++++++++++++++++=\n",
      "=+++++++++++++++++++++++++++++++++++++++++++++=\n",
      "=++++++++++++++++++           ++++++++++++++++=\n",
      "=++++++++++++++++++   SNHRD   ++++++++++++++++=\n",
      "=++++++++++++++++++           ++++++++++++++++=\n",
      "=+++++++++++++++++++++++++++++++++++++++++++++=\n",
      "=+++++++++++++++++++++++++++++++++++++++++++++=\n",
      "===============================================\n",
      "===============================================\n",
      "  ===                                     ===\n",
      "  ===                                     ===\n",
      "41\n",
      "insert coin500\n",
      "메뉴 선택1\n",
      "돈내놔\n",
      "잔돈>> 1000원0개, 500원 1개, 100원 0개\n"
     ]
    }
   ],
   "source": [
    "print('===============================================')\n",
    "print(\"===============---- 자판기 ----================\")\n",
    "print('===============================================')\n",
    "print('=== 1.콜라 == 2. 사이다 == 3.물 ======insert===')\n",
    "print('===--------==-----------==------======------===')\n",
    "print('===   600  ==      800  == 1000 ====== 000원===')\n",
    "print('======================================------===')\n",
    "print('===============================================')\n",
    "print('=+++++++++++++++++++++++++++++++++++++++++++++=')\n",
    "print('=+++++++++++++++++++++++++++++++++++++++++++++=')\n",
    "print('=+++++++++++++++++++++++++++++++++++++++++++++=')\n",
    "print('=++++++++++++++++++           ++++++++++++++++=')\n",
    "print('=++++++++++++++++++   SMHRD   ++++++++++++++++=')\n",
    "print('=++++++++++++++++++           ++++++++++++++++=')\n",
    "print('=+++++++++++++++++++++++++++++++++++++++++++++=')\n",
    "print('=+++++++++++++++++++++++++++++++++++++++++++++=')\n",
    "print('===============================================')\n",
    "print('===============================================')\n",
    "print('  ===                                     ===')\n",
    "print('  ===                                     ===')\n",
    "\n",
    "print(len('== 1.콜라 == 2. 사이다 == 3.물 =======insert==='))\n",
    "#메뉴출력\n",
    "coin = int(input('insert coin'))\n",
    "잔돈=coin\n",
    "menu = int(input('메뉴 선택'))\n",
    "천원=int(잔돈//1000)\n",
    "오백원=int((잔돈%1000)//500)\n",
    "백원=int(((잔돈%1000)%500)/100)\n",
    "\n",
    "if coin > 600:\n",
    "    if menu>0 and menu<=3:\n",
    "        if menu == 1:\n",
    "            잔돈 = coin-600\n",
    "        elif menu == 2:\n",
    "            if coin >800 :\n",
    "                print('잔액부족')\n",
    "            else:\n",
    "                잔돈 = coin-800\n",
    "        else:\n",
    "            if coin >1000 :\n",
    "                print('잔액부족')\n",
    "            else:\n",
    "                잔돈 = coin-1000\n",
    "    else:\n",
    "        print('잘못된 메뉴')\n",
    "else:\n",
    "    print('돈내놔')\n",
    "print (f'잔돈>> 1000원{천원}개, 500원 {오백원}개, 100원 {백원}개')"
   ]
  },
  {
   "cell_type": "code",
   "execution_count": 9,
   "id": "73d80355",
   "metadata": {},
   "outputs": [
    {
     "name": "stdout",
     "output_type": "stream",
     "text": [
      "===============================================\n",
      "===============---- 자판기 ----================\n",
      "===============================================\n",
      "=== 1.콜라 == 2. 사이다 == 3.물 ======insert===\n",
      "===--------==-----------==------======------===\n",
      "===   600  ==      800  == 1000 ====== 000원===\n",
      "======================================------===\n",
      "===============================================\n",
      "=+++++++++++++++++++++++++++++++++++++++++++++=\n",
      "=+++++++++++++++++++++++++++++++++++++++++++++=\n",
      "=+++++++++++++++++++++++++++++++++++++++++++++=\n",
      "=++++++++++++++++++           ++++++++++++++++=\n",
      "=++++++++++++++++++   SMHRD   ++++++++++++++++=\n",
      "=++++++++++++++++++           ++++++++++++++++=\n",
      "=+++++++++++++++++++++++++++++++++++++++++++++=\n",
      "=+++++++++++++++++++++++++++++++++++++++++++++=\n",
      "===============================================\n",
      "===============================================\n",
      "  ===                                     ===\n",
      "  ===                                     ===\n",
      "insert coin700\n",
      "메뉴 선택2\n",
      "\n",
      "메뉴를 선택하기에 돈이 부족합니다\n",
      "        돈을 더 넣어 주세요\n",
      "\n",
      "잔돈>> 1000원0개, 500원 1개, 100원 2개\n"
     ]
    }
   ],
   "source": [
    "print('===============================================')\n",
    "print(\"===============---- 자판기 ----================\")\n",
    "print('===============================================')\n",
    "print('=== 1.콜라 == 2. 사이다 == 3.물 ======insert===')\n",
    "print('===--------==-----------==------======------===')\n",
    "print('===   600  ==      800  == 1000 ====== 000원===')\n",
    "print('======================================------===')\n",
    "print('===============================================')\n",
    "print('=+++++++++++++++++++++++++++++++++++++++++++++=')\n",
    "print('=+++++++++++++++++++++++++++++++++++++++++++++=')\n",
    "print('=+++++++++++++++++++++++++++++++++++++++++++++=')\n",
    "print('=++++++++++++++++++           ++++++++++++++++=')\n",
    "print('=++++++++++++++++++   SMHRD   ++++++++++++++++=')\n",
    "print('=++++++++++++++++++           ++++++++++++++++=')\n",
    "print('=+++++++++++++++++++++++++++++++++++++++++++++=')\n",
    "print('=+++++++++++++++++++++++++++++++++++++++++++++=')\n",
    "print('===============================================')\n",
    "print('===============================================')\n",
    "print('  ===                                     ===')\n",
    "print('  ===                                     ===')\n",
    "\n",
    "coin = int(input('insert coin :'))\n",
    "\n",
    "if coin >= 600:\n",
    "    menu = int(input('메뉴 선택 :'))\n",
    "    if menu >=1 and menu<=3:\n",
    "        if menu ==1 :\n",
    "            coin=coin-600\n",
    "        elif menu ==2 and coin>=800:\n",
    "            coin=coin-800\n",
    "        elif menu ==3 and coin>=1000:\n",
    "            coin=coin-1000\n",
    "        else:\n",
    "            print(\"\")\n",
    "            print('''메뉴를 선택하기에 돈이 부족합니다\n",
    "        돈을 더 넣어 주세요''')\n",
    "            print(\"\")\n",
    "    else :\n",
    "        print('잘못된 메뉴')\n",
    "    천원=int(coin//1000)\n",
    "    오백원=int((coin%1000)//500)\n",
    "    백원=int(((coin%1000)%500)/100)\n",
    "    print (f'잔돈>> 1000원{천원}개, 500원 {오백원}개, 100원 {백원}개')\n",
    "else:\n",
    "    ('돈을 더 넣어 주세요')"
   ]
  },
  {
   "cell_type": "code",
   "execution_count": null,
   "id": "593ed9d8",
   "metadata": {},
   "outputs": [],
   "source": []
  },
  {
   "cell_type": "code",
   "execution_count": null,
   "id": "34eea5a6",
   "metadata": {},
   "outputs": [],
   "source": []
  }
 ],
 "metadata": {
  "kernelspec": {
   "display_name": "Python 3 (ipykernel)",
   "language": "python",
   "name": "python3"
  },
  "language_info": {
   "codemirror_mode": {
    "name": "ipython",
    "version": 3
   },
   "file_extension": ".py",
   "mimetype": "text/x-python",
   "name": "python",
   "nbconvert_exporter": "python",
   "pygments_lexer": "ipython3",
   "version": "3.9.12"
  }
 },
 "nbformat": 4,
 "nbformat_minor": 5
}
